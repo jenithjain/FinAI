{
 "cells": [
  {
   "cell_type": "code",
   "execution_count": 44,
   "id": "0d22d9bc-db8a-453f-b22f-964693b62a16",
   "metadata": {},
   "outputs": [
    {
     "name": "stdout",
     "output_type": "stream",
     "text": [
      "Epoch 1/5\n"
     ]
    },
    {
     "name": "stderr",
     "output_type": "stream",
     "text": [
      "C:\\Users\\jainn\\anaconda3\\envs\\notebook\\Lib\\site-packages\\keras\\src\\layers\\rnn\\rnn.py:204: UserWarning:\n",
      "\n",
      "Do not pass an `input_shape`/`input_dim` argument to a layer. When using Sequential models, prefer using an `Input(shape)` object as the first layer in the model instead.\n",
      "\n"
     ]
    },
    {
     "name": "stdout",
     "output_type": "stream",
     "text": [
      "\u001b[1m14/14\u001b[0m \u001b[32m━━━━━━━━━━━━━━━━━━━━\u001b[0m\u001b[37m\u001b[0m \u001b[1m4s\u001b[0m 36ms/step - loss: 0.1689\n",
      "Epoch 2/5\n",
      "\u001b[1m14/14\u001b[0m \u001b[32m━━━━━━━━━━━━━━━━━━━━\u001b[0m\u001b[37m\u001b[0m \u001b[1m1s\u001b[0m 50ms/step - loss: 0.0143\n",
      "Epoch 3/5\n",
      "\u001b[1m14/14\u001b[0m \u001b[32m━━━━━━━━━━━━━━━━━━━━\u001b[0m\u001b[37m\u001b[0m \u001b[1m1s\u001b[0m 48ms/step - loss: 0.0113\n",
      "Epoch 4/5\n",
      "\u001b[1m14/14\u001b[0m \u001b[32m━━━━━━━━━━━━━━━━━━━━\u001b[0m\u001b[37m\u001b[0m \u001b[1m1s\u001b[0m 44ms/step - loss: 0.0098\n",
      "Epoch 5/5\n",
      "\u001b[1m14/14\u001b[0m \u001b[32m━━━━━━━━━━━━━━━━━━━━\u001b[0m\u001b[37m\u001b[0m \u001b[1m1s\u001b[0m 48ms/step - loss: 0.0079\n",
      "\u001b[1m1/1\u001b[0m \u001b[32m━━━━━━━━━━━━━━━━━━━━\u001b[0m\u001b[37m\u001b[0m \u001b[1m0s\u001b[0m 356ms/step\n",
      "\u001b[1m1/1\u001b[0m \u001b[32m━━━━━━━━━━━━━━━━━━━━\u001b[0m\u001b[37m\u001b[0m \u001b[1m0s\u001b[0m 31ms/step\n",
      "\u001b[1m1/1\u001b[0m \u001b[32m━━━━━━━━━━━━━━━━━━━━\u001b[0m\u001b[37m\u001b[0m \u001b[1m0s\u001b[0m 40ms/step\n",
      "\u001b[1m1/1\u001b[0m \u001b[32m━━━━━━━━━━━━━━━━━━━━\u001b[0m\u001b[37m\u001b[0m \u001b[1m0s\u001b[0m 20ms/step\n",
      "\u001b[1m1/1\u001b[0m \u001b[32m━━━━━━━━━━━━━━━━━━━━\u001b[0m\u001b[37m\u001b[0m \u001b[1m0s\u001b[0m 26ms/step\n",
      "\u001b[1m1/1\u001b[0m \u001b[32m━━━━━━━━━━━━━━━━━━━━\u001b[0m\u001b[37m\u001b[0m \u001b[1m0s\u001b[0m 50ms/step\n",
      "\u001b[1m1/1\u001b[0m \u001b[32m━━━━━━━━━━━━━━━━━━━━\u001b[0m\u001b[37m\u001b[0m \u001b[1m0s\u001b[0m 28ms/step\n",
      "\u001b[1m1/1\u001b[0m \u001b[32m━━━━━━━━━━━━━━━━━━━━\u001b[0m\u001b[37m\u001b[0m \u001b[1m0s\u001b[0m 33ms/step\n",
      "\u001b[1m1/1\u001b[0m \u001b[32m━━━━━━━━━━━━━━━━━━━━\u001b[0m\u001b[37m\u001b[0m \u001b[1m0s\u001b[0m 45ms/step\n",
      "\u001b[1m1/1\u001b[0m \u001b[32m━━━━━━━━━━━━━━━━━━━━\u001b[0m\u001b[37m\u001b[0m \u001b[1m0s\u001b[0m 53ms/step\n"
     ]
    },
    {
     "data": {
      "application/vnd.plotly.v1+json": {
       "config": {
        "plotlyServerURL": "https://plot.ly"
       },
       "data": [
        {
         "mode": "lines",
         "name": "Historical Prices",
         "type": "scatter",
         "x": [
          0,
          1,
          2,
          3,
          4,
          5,
          6,
          7,
          8,
          9,
          10,
          11,
          12,
          13,
          14,
          15,
          16,
          17,
          18,
          19,
          20,
          21,
          22,
          23,
          24,
          25,
          26,
          27,
          28,
          29,
          30,
          31,
          32,
          33,
          34,
          35,
          36,
          37,
          38,
          39,
          40,
          41,
          42,
          43,
          44,
          45,
          46,
          47,
          48,
          49,
          50,
          51,
          52,
          53,
          54,
          55,
          56,
          57,
          58,
          59,
          60,
          61,
          62,
          63,
          64,
          65,
          66,
          67,
          68,
          69,
          70,
          71,
          72,
          73,
          74,
          75,
          76,
          77,
          78,
          79,
          80,
          81,
          82,
          83,
          84,
          85,
          86,
          87,
          88,
          89,
          90,
          91,
          92,
          93,
          94,
          95,
          96,
          97,
          98,
          99
         ],
         "y": [
          144.9796905517578,
          130.96804809570312,
          129.96153259277344,
          130.9481201171875,
          130.4000244140625,
          133.1007080078125,
          132.36325073242188,
          132.52268981933594,
          132.57252502441406,
          131.6556854248047,
          132.7020721435547,
          130.1209716796875,
          129.40345764160156,
          131.37664794921875,
          134.4360809326172,
          132.27354431152344,
          132.79176330566406,
          134.615478515625,
          134.226806640625,
          132.63230895996094,
          130.35020446777344,
          129.18421936035156,
          126.96188354492188,
          125.580078125,
          125.92952728271484,
          126.16915130615234,
          125.86962127685547,
          125.22064971923828,
          126.86803436279297,
          130.61207580566406,
          132.0198211669922,
          130.8017578125,
          135.84373474121094,
          133.28781127929688,
          131.76023864746094,
          131.57054138183594,
          133.2079315185547,
          130.4423370361328,
          133.94676208496094,
          134.7654571533203,
          137.10174560546875,
          137.16165161132812,
          139.26829528808594,
          141.1752471923828,
          142.6329345703125,
          138.81900024414062,
          134.48590087890625,
          136.04342651367188,
          133.74708557128906,
          136.54263305664062,
          136.68240356445312,
          135.3844757080078,
          137.2015838623047,
          135.8137969970703,
          139.6676483154297,
          139.81741333007812,
          140.2866668701172,
          139.5278778076172,
          139.7675018310547,
          139.99713134765625,
          140.64608764648438,
          140.26670837402344,
          140.875732421875,
          140.83580017089844,
          142.30345153808594,
          142.69284057617188,
          138.7391357421875,
          137.94041442871094,
          138.1400909423828,
          136.98193359375,
          137.87051391601562,
          137.81060791015625,
          138.4795379638672,
          136.1732177734375,
          137.0917510986328,
          138.0901641845703,
          138.13011169433594,
          138.78904724121094,
          141.72438049316406,
          139.86734008789062,
          139.56781005859375,
          141.64450073242188,
          139.21836853027344,
          146.50677490234375,
          147.8246612548828,
          148.24400329589844,
          146.55999755859375,
          146.5399932861328,
          144.5500030517578,
          144.97000122070312,
          143.88999938964844,
          144.61000061035156,
          144.8000030517578,
          142.74000549316406,
          143.82000732421875,
          144.25,
          144.5800018310547,
          139.11000061035156,
          137.4199981689453,
          138.8300018310547
         ]
        },
        {
         "line": {
          "color": "orange",
          "dash": "dot"
         },
         "mode": "lines",
         "name": "Predicted Prices",
         "type": "scatter",
         "x": [
          100,
          101,
          102,
          103,
          104,
          105,
          106,
          107,
          108,
          109
         ],
         "y": [
          199.8958740234375,
          201.78759765625,
          199.662841796875,
          195.19252014160156,
          189.5895538330078,
          183.4912109375,
          177.45899963378906,
          171.31661987304688,
          164.4546356201172,
          157.28860473632812
         ]
        }
       ],
       "layout": {
        "autosize": true,
        "legend": {
         "title": {
          "text": "Legend"
         }
        },
        "template": {
         "data": {
          "bar": [
           {
            "error_x": {
             "color": "#f2f5fa"
            },
            "error_y": {
             "color": "#f2f5fa"
            },
            "marker": {
             "line": {
              "color": "rgb(17,17,17)",
              "width": 0.5
             },
             "pattern": {
              "fillmode": "overlay",
              "size": 10,
              "solidity": 0.2
             }
            },
            "type": "bar"
           }
          ],
          "barpolar": [
           {
            "marker": {
             "line": {
              "color": "rgb(17,17,17)",
              "width": 0.5
             },
             "pattern": {
              "fillmode": "overlay",
              "size": 10,
              "solidity": 0.2
             }
            },
            "type": "barpolar"
           }
          ],
          "carpet": [
           {
            "aaxis": {
             "endlinecolor": "#A2B1C6",
             "gridcolor": "#506784",
             "linecolor": "#506784",
             "minorgridcolor": "#506784",
             "startlinecolor": "#A2B1C6"
            },
            "baxis": {
             "endlinecolor": "#A2B1C6",
             "gridcolor": "#506784",
             "linecolor": "#506784",
             "minorgridcolor": "#506784",
             "startlinecolor": "#A2B1C6"
            },
            "type": "carpet"
           }
          ],
          "choropleth": [
           {
            "colorbar": {
             "outlinewidth": 0,
             "ticks": ""
            },
            "type": "choropleth"
           }
          ],
          "contour": [
           {
            "colorbar": {
             "outlinewidth": 0,
             "ticks": ""
            },
            "colorscale": [
             [
              0,
              "#0d0887"
             ],
             [
              0.1111111111111111,
              "#46039f"
             ],
             [
              0.2222222222222222,
              "#7201a8"
             ],
             [
              0.3333333333333333,
              "#9c179e"
             ],
             [
              0.4444444444444444,
              "#bd3786"
             ],
             [
              0.5555555555555556,
              "#d8576b"
             ],
             [
              0.6666666666666666,
              "#ed7953"
             ],
             [
              0.7777777777777778,
              "#fb9f3a"
             ],
             [
              0.8888888888888888,
              "#fdca26"
             ],
             [
              1,
              "#f0f921"
             ]
            ],
            "type": "contour"
           }
          ],
          "contourcarpet": [
           {
            "colorbar": {
             "outlinewidth": 0,
             "ticks": ""
            },
            "type": "contourcarpet"
           }
          ],
          "heatmap": [
           {
            "colorbar": {
             "outlinewidth": 0,
             "ticks": ""
            },
            "colorscale": [
             [
              0,
              "#0d0887"
             ],
             [
              0.1111111111111111,
              "#46039f"
             ],
             [
              0.2222222222222222,
              "#7201a8"
             ],
             [
              0.3333333333333333,
              "#9c179e"
             ],
             [
              0.4444444444444444,
              "#bd3786"
             ],
             [
              0.5555555555555556,
              "#d8576b"
             ],
             [
              0.6666666666666666,
              "#ed7953"
             ],
             [
              0.7777777777777778,
              "#fb9f3a"
             ],
             [
              0.8888888888888888,
              "#fdca26"
             ],
             [
              1,
              "#f0f921"
             ]
            ],
            "type": "heatmap"
           }
          ],
          "heatmapgl": [
           {
            "colorbar": {
             "outlinewidth": 0,
             "ticks": ""
            },
            "colorscale": [
             [
              0,
              "#0d0887"
             ],
             [
              0.1111111111111111,
              "#46039f"
             ],
             [
              0.2222222222222222,
              "#7201a8"
             ],
             [
              0.3333333333333333,
              "#9c179e"
             ],
             [
              0.4444444444444444,
              "#bd3786"
             ],
             [
              0.5555555555555556,
              "#d8576b"
             ],
             [
              0.6666666666666666,
              "#ed7953"
             ],
             [
              0.7777777777777778,
              "#fb9f3a"
             ],
             [
              0.8888888888888888,
              "#fdca26"
             ],
             [
              1,
              "#f0f921"
             ]
            ],
            "type": "heatmapgl"
           }
          ],
          "histogram": [
           {
            "marker": {
             "pattern": {
              "fillmode": "overlay",
              "size": 10,
              "solidity": 0.2
             }
            },
            "type": "histogram"
           }
          ],
          "histogram2d": [
           {
            "colorbar": {
             "outlinewidth": 0,
             "ticks": ""
            },
            "colorscale": [
             [
              0,
              "#0d0887"
             ],
             [
              0.1111111111111111,
              "#46039f"
             ],
             [
              0.2222222222222222,
              "#7201a8"
             ],
             [
              0.3333333333333333,
              "#9c179e"
             ],
             [
              0.4444444444444444,
              "#bd3786"
             ],
             [
              0.5555555555555556,
              "#d8576b"
             ],
             [
              0.6666666666666666,
              "#ed7953"
             ],
             [
              0.7777777777777778,
              "#fb9f3a"
             ],
             [
              0.8888888888888888,
              "#fdca26"
             ],
             [
              1,
              "#f0f921"
             ]
            ],
            "type": "histogram2d"
           }
          ],
          "histogram2dcontour": [
           {
            "colorbar": {
             "outlinewidth": 0,
             "ticks": ""
            },
            "colorscale": [
             [
              0,
              "#0d0887"
             ],
             [
              0.1111111111111111,
              "#46039f"
             ],
             [
              0.2222222222222222,
              "#7201a8"
             ],
             [
              0.3333333333333333,
              "#9c179e"
             ],
             [
              0.4444444444444444,
              "#bd3786"
             ],
             [
              0.5555555555555556,
              "#d8576b"
             ],
             [
              0.6666666666666666,
              "#ed7953"
             ],
             [
              0.7777777777777778,
              "#fb9f3a"
             ],
             [
              0.8888888888888888,
              "#fdca26"
             ],
             [
              1,
              "#f0f921"
             ]
            ],
            "type": "histogram2dcontour"
           }
          ],
          "mesh3d": [
           {
            "colorbar": {
             "outlinewidth": 0,
             "ticks": ""
            },
            "type": "mesh3d"
           }
          ],
          "parcoords": [
           {
            "line": {
             "colorbar": {
              "outlinewidth": 0,
              "ticks": ""
             }
            },
            "type": "parcoords"
           }
          ],
          "pie": [
           {
            "automargin": true,
            "type": "pie"
           }
          ],
          "scatter": [
           {
            "marker": {
             "line": {
              "color": "#283442"
             }
            },
            "type": "scatter"
           }
          ],
          "scatter3d": [
           {
            "line": {
             "colorbar": {
              "outlinewidth": 0,
              "ticks": ""
             }
            },
            "marker": {
             "colorbar": {
              "outlinewidth": 0,
              "ticks": ""
             }
            },
            "type": "scatter3d"
           }
          ],
          "scattercarpet": [
           {
            "marker": {
             "colorbar": {
              "outlinewidth": 0,
              "ticks": ""
             }
            },
            "type": "scattercarpet"
           }
          ],
          "scattergeo": [
           {
            "marker": {
             "colorbar": {
              "outlinewidth": 0,
              "ticks": ""
             }
            },
            "type": "scattergeo"
           }
          ],
          "scattergl": [
           {
            "marker": {
             "line": {
              "color": "#283442"
             }
            },
            "type": "scattergl"
           }
          ],
          "scattermapbox": [
           {
            "marker": {
             "colorbar": {
              "outlinewidth": 0,
              "ticks": ""
             }
            },
            "type": "scattermapbox"
           }
          ],
          "scatterpolar": [
           {
            "marker": {
             "colorbar": {
              "outlinewidth": 0,
              "ticks": ""
             }
            },
            "type": "scatterpolar"
           }
          ],
          "scatterpolargl": [
           {
            "marker": {
             "colorbar": {
              "outlinewidth": 0,
              "ticks": ""
             }
            },
            "type": "scatterpolargl"
           }
          ],
          "scatterternary": [
           {
            "marker": {
             "colorbar": {
              "outlinewidth": 0,
              "ticks": ""
             }
            },
            "type": "scatterternary"
           }
          ],
          "surface": [
           {
            "colorbar": {
             "outlinewidth": 0,
             "ticks": ""
            },
            "colorscale": [
             [
              0,
              "#0d0887"
             ],
             [
              0.1111111111111111,
              "#46039f"
             ],
             [
              0.2222222222222222,
              "#7201a8"
             ],
             [
              0.3333333333333333,
              "#9c179e"
             ],
             [
              0.4444444444444444,
              "#bd3786"
             ],
             [
              0.5555555555555556,
              "#d8576b"
             ],
             [
              0.6666666666666666,
              "#ed7953"
             ],
             [
              0.7777777777777778,
              "#fb9f3a"
             ],
             [
              0.8888888888888888,
              "#fdca26"
             ],
             [
              1,
              "#f0f921"
             ]
            ],
            "type": "surface"
           }
          ],
          "table": [
           {
            "cells": {
             "fill": {
              "color": "#506784"
             },
             "line": {
              "color": "rgb(17,17,17)"
             }
            },
            "header": {
             "fill": {
              "color": "#2a3f5f"
             },
             "line": {
              "color": "rgb(17,17,17)"
             }
            },
            "type": "table"
           }
          ]
         },
         "layout": {
          "annotationdefaults": {
           "arrowcolor": "#f2f5fa",
           "arrowhead": 0,
           "arrowwidth": 1
          },
          "autotypenumbers": "strict",
          "coloraxis": {
           "colorbar": {
            "outlinewidth": 0,
            "ticks": ""
           }
          },
          "colorscale": {
           "diverging": [
            [
             0,
             "#8e0152"
            ],
            [
             0.1,
             "#c51b7d"
            ],
            [
             0.2,
             "#de77ae"
            ],
            [
             0.3,
             "#f1b6da"
            ],
            [
             0.4,
             "#fde0ef"
            ],
            [
             0.5,
             "#f7f7f7"
            ],
            [
             0.6,
             "#e6f5d0"
            ],
            [
             0.7,
             "#b8e186"
            ],
            [
             0.8,
             "#7fbc41"
            ],
            [
             0.9,
             "#4d9221"
            ],
            [
             1,
             "#276419"
            ]
           ],
           "sequential": [
            [
             0,
             "#0d0887"
            ],
            [
             0.1111111111111111,
             "#46039f"
            ],
            [
             0.2222222222222222,
             "#7201a8"
            ],
            [
             0.3333333333333333,
             "#9c179e"
            ],
            [
             0.4444444444444444,
             "#bd3786"
            ],
            [
             0.5555555555555556,
             "#d8576b"
            ],
            [
             0.6666666666666666,
             "#ed7953"
            ],
            [
             0.7777777777777778,
             "#fb9f3a"
            ],
            [
             0.8888888888888888,
             "#fdca26"
            ],
            [
             1,
             "#f0f921"
            ]
           ],
           "sequentialminus": [
            [
             0,
             "#0d0887"
            ],
            [
             0.1111111111111111,
             "#46039f"
            ],
            [
             0.2222222222222222,
             "#7201a8"
            ],
            [
             0.3333333333333333,
             "#9c179e"
            ],
            [
             0.4444444444444444,
             "#bd3786"
            ],
            [
             0.5555555555555556,
             "#d8576b"
            ],
            [
             0.6666666666666666,
             "#ed7953"
            ],
            [
             0.7777777777777778,
             "#fb9f3a"
            ],
            [
             0.8888888888888888,
             "#fdca26"
            ],
            [
             1,
             "#f0f921"
            ]
           ]
          },
          "colorway": [
           "#636efa",
           "#EF553B",
           "#00cc96",
           "#ab63fa",
           "#FFA15A",
           "#19d3f3",
           "#FF6692",
           "#B6E880",
           "#FF97FF",
           "#FECB52"
          ],
          "font": {
           "color": "#f2f5fa"
          },
          "geo": {
           "bgcolor": "rgb(17,17,17)",
           "lakecolor": "rgb(17,17,17)",
           "landcolor": "rgb(17,17,17)",
           "showlakes": true,
           "showland": true,
           "subunitcolor": "#506784"
          },
          "hoverlabel": {
           "align": "left"
          },
          "hovermode": "closest",
          "mapbox": {
           "style": "dark"
          },
          "paper_bgcolor": "rgb(17,17,17)",
          "plot_bgcolor": "rgb(17,17,17)",
          "polar": {
           "angularaxis": {
            "gridcolor": "#506784",
            "linecolor": "#506784",
            "ticks": ""
           },
           "bgcolor": "rgb(17,17,17)",
           "radialaxis": {
            "gridcolor": "#506784",
            "linecolor": "#506784",
            "ticks": ""
           }
          },
          "scene": {
           "xaxis": {
            "backgroundcolor": "rgb(17,17,17)",
            "gridcolor": "#506784",
            "gridwidth": 2,
            "linecolor": "#506784",
            "showbackground": true,
            "ticks": "",
            "zerolinecolor": "#C8D4E3"
           },
           "yaxis": {
            "backgroundcolor": "rgb(17,17,17)",
            "gridcolor": "#506784",
            "gridwidth": 2,
            "linecolor": "#506784",
            "showbackground": true,
            "ticks": "",
            "zerolinecolor": "#C8D4E3"
           },
           "zaxis": {
            "backgroundcolor": "rgb(17,17,17)",
            "gridcolor": "#506784",
            "gridwidth": 2,
            "linecolor": "#506784",
            "showbackground": true,
            "ticks": "",
            "zerolinecolor": "#C8D4E3"
           }
          },
          "shapedefaults": {
           "line": {
            "color": "#f2f5fa"
           }
          },
          "sliderdefaults": {
           "bgcolor": "#C8D4E3",
           "bordercolor": "rgb(17,17,17)",
           "borderwidth": 1,
           "tickwidth": 0
          },
          "ternary": {
           "aaxis": {
            "gridcolor": "#506784",
            "linecolor": "#506784",
            "ticks": ""
           },
           "baxis": {
            "gridcolor": "#506784",
            "linecolor": "#506784",
            "ticks": ""
           },
           "bgcolor": "rgb(17,17,17)",
           "caxis": {
            "gridcolor": "#506784",
            "linecolor": "#506784",
            "ticks": ""
           }
          },
          "title": {
           "x": 0.05
          },
          "updatemenudefaults": {
           "bgcolor": "#506784",
           "borderwidth": 0
          },
          "xaxis": {
           "automargin": true,
           "gridcolor": "#283442",
           "linecolor": "#506784",
           "ticks": "",
           "title": {
            "standoff": 15
           },
           "zerolinecolor": "#283442",
           "zerolinewidth": 2
          },
          "yaxis": {
           "automargin": true,
           "gridcolor": "#283442",
           "linecolor": "#506784",
           "ticks": "",
           "title": {
            "standoff": 15
           },
           "zerolinecolor": "#283442",
           "zerolinewidth": 2
          }
         }
        },
        "title": {
         "text": "A Stock Price Prediction"
        },
        "xaxis": {
         "autorange": true,
         "range": [
          0,
          109
         ],
         "title": {
          "text": "Time Steps"
         },
         "type": "linear"
        },
        "yaxis": {
         "autorange": true,
         "range": [
          120.9669303894043,
          206.04131698608398
         ],
         "title": {
          "text": "Stock Price"
         },
         "type": "linear"
        }
       }
      },
      "image/png": "[encoded data removed]",
      "text/html": [
       "<div>                            <div id=\"3cac8c0b-bafe-4715-96f2-6a48d6f7797d\" class=\"plotly-graph-div\" style=\"height:525px; width:100%;\"></div>            <script type=\"text/javascript\">                require([\"plotly\"], function(Plotly) {                    window.PLOTLYENV=window.PLOTLYENV || {};                                    if (document.getElementById(\"3cac8c0b-bafe-4715-96f2-6a48d6f7797d\")) {                    Plotly.newPlot(                        \"3cac8c0b-bafe-4715-96f2-6a48d6f7797d\",                        [{\"mode\":\"lines\",\"name\":\"Historical Prices\",\"x\":[0,1,2,3,4,5,6,7,8,9,10,11,12,13,14,15,16,17,18,19,20,21,22,23,24,25,26,27,28,29,30,31,32,33,34,35,36,37,38,39,40,41,42,43,44,45,46,47,48,49,50,51,52,53,54,55,56,57,58,59,60,61,62,63,64,65,66,67,68,69,70,71,72,73,74,75,76,77,78,79,80,81,82,83,84,85,86,87,88,89,90,91,92,93,94,95,96,97,98,99],\"y\":[144.9796905517578,130.96804809570312,129.96153259277344,130.9481201171875,130.4000244140625,133.1007080078125,132.36325073242188,132.52268981933594,132.57252502441406,131.6556854248047,132.7020721435547,130.1209716796875,129.40345764160156,131.37664794921875,134.4360809326172,132.27354431152344,132.79176330566406,134.615478515625,134.226806640625,132.63230895996094,130.35020446777344,129.18421936035156,126.96188354492188,125.580078125,125.92952728271484,126.16915130615234,125.86962127685547,125.22064971923828,126.86803436279297,130.61207580566406,132.0198211669922,130.8017578125,135.84373474121094,133.28781127929688,131.76023864746094,131.57054138183594,133.2079315185547,130.4423370361328,133.94676208496094,134.7654571533203,137.10174560546875,137.16165161132812,139.26829528808594,141.1752471923828,142.6329345703125,138.81900024414062,134.48590087890625,136.04342651367188,133.74708557128906,136.54263305664062,136.68240356445312,135.3844757080078,137.2015838623047,135.8137969970703,139.6676483154297,139.81741333007812,140.2866668701172,139.5278778076172,139.7675018310547,139.99713134765625,140.64608764648438,140.26670837402344,140.875732421875,140.83580017089844,142.30345153808594,142.69284057617188,138.7391357421875,137.94041442871094,138.1400909423828,136.98193359375,137.87051391601562,137.81060791015625,138.4795379638672,136.1732177734375,137.0917510986328,138.0901641845703,138.13011169433594,138.78904724121094,141.72438049316406,139.86734008789062,139.56781005859375,141.64450073242188,139.21836853027344,146.50677490234375,147.8246612548828,148.24400329589844,146.55999755859375,146.5399932861328,144.5500030517578,144.97000122070312,143.88999938964844,144.61000061035156,144.8000030517578,142.74000549316406,143.82000732421875,144.25,144.5800018310547,139.11000061035156,137.4199981689453,138.8300018310547],\"type\":\"scatter\"},{\"line\":{\"color\":\"orange\",\"dash\":\"dot\"},\"mode\":\"lines\",\"name\":\"Predicted Prices\",\"x\":[100,101,102,103,104,105,106,107,108,109],\"y\":[199.8958740234375,201.78759765625,199.662841796875,195.19252014160156,189.5895538330078,183.4912109375,177.45899963378906,171.31661987304688,164.4546356201172,157.28860473632812],\"type\":\"scatter\"}],                        {\"template\":{\"data\":{\"barpolar\":[{\"marker\":{\"line\":{\"color\":\"rgb(17,17,17)\",\"width\":0.5},\"pattern\":{\"fillmode\":\"overlay\",\"size\":10,\"solidity\":0.2}},\"type\":\"barpolar\"}],\"bar\":[{\"error_x\":{\"color\":\"#f2f5fa\"},\"error_y\":{\"color\":\"#f2f5fa\"},\"marker\":{\"line\":{\"color\":\"rgb(17,17,17)\",\"width\":0.5},\"pattern\":{\"fillmode\":\"overlay\",\"size\":10,\"solidity\":0.2}},\"type\":\"bar\"}],\"carpet\":[{\"aaxis\":{\"endlinecolor\":\"#A2B1C6\",\"gridcolor\":\"#506784\",\"linecolor\":\"#506784\",\"minorgridcolor\":\"#506784\",\"startlinecolor\":\"#A2B1C6\"},\"baxis\":{\"endlinecolor\":\"#A2B1C6\",\"gridcolor\":\"#506784\",\"linecolor\":\"#506784\",\"minorgridcolor\":\"#506784\",\"startlinecolor\":\"#A2B1C6\"},\"type\":\"carpet\"}],\"choropleth\":[{\"colorbar\":{\"outlinewidth\":0,\"ticks\":\"\"},\"type\":\"choropleth\"}],\"contourcarpet\":[{\"colorbar\":{\"outlinewidth\":0,\"ticks\":\"\"},\"type\":\"contourcarpet\"}],\"contour\":[{\"colorbar\":{\"outlinewidth\":0,\"ticks\":\"\"},\"colorscale\":[[0.0,\"#0d0887\"],[0.1111111111111111,\"#46039f\"],[0.2222222222222222,\"#7201a8\"],[0.3333333333333333,\"#9c179e\"],[0.4444444444444444,\"#bd3786\"],[0.5555555555555556,\"#d8576b\"],[0.6666666666666666,\"#ed7953\"],[0.7777777777777778,\"#fb9f3a\"],[0.8888888888888888,\"#fdca26\"],[1.0,\"#f0f921\"]],\"type\":\"contour\"}],\"heatmapgl\":[{\"colorbar\":{\"outlinewidth\":0,\"ticks\":\"\"},\"colorscale\":[[0.0,\"#0d0887\"],[0.1111111111111111,\"#46039f\"],[0.2222222222222222,\"#7201a8\"],[0.3333333333333333,\"#9c179e\"],[0.4444444444444444,\"#bd3786\"],[0.5555555555555556,\"#d8576b\"],[0.6666666666666666,\"#ed7953\"],[0.7777777777777778,\"#fb9f3a\"],[0.8888888888888888,\"#fdca26\"],[1.0,\"#f0f921\"]],\"type\":\"heatmapgl\"}],\"heatmap\":[{\"colorbar\":{\"outlinewidth\":0,\"ticks\":\"\"},\"colorscale\":[[0.0,\"#0d0887\"],[0.1111111111111111,\"#46039f\"],[0.2222222222222222,\"#7201a8\"],[0.3333333333333333,\"#9c179e\"],[0.4444444444444444,\"#bd3786\"],[0.5555555555555556,\"#d8576b\"],[0.6666666666666666,\"#ed7953\"],[0.7777777777777778,\"#fb9f3a\"],[0.8888888888888888,\"#fdca26\"],[1.0,\"#f0f921\"]],\"type\":\"heatmap\"}],\"histogram2dcontour\":[{\"colorbar\":{\"outlinewidth\":0,\"ticks\":\"\"},\"colorscale\":[[0.0,\"#0d0887\"],[0.1111111111111111,\"#46039f\"],[0.2222222222222222,\"#7201a8\"],[0.3333333333333333,\"#9c179e\"],[0.4444444444444444,\"#bd3786\"],[0.5555555555555556,\"#d8576b\"],[0.6666666666666666,\"#ed7953\"],[0.7777777777777778,\"#fb9f3a\"],[0.8888888888888888,\"#fdca26\"],[1.0,\"#f0f921\"]],\"type\":\"histogram2dcontour\"}],\"histogram2d\":[{\"colorbar\":{\"outlinewidth\":0,\"ticks\":\"\"},\"colorscale\":[[0.0,\"#0d0887\"],[0.1111111111111111,\"#46039f\"],[0.2222222222222222,\"#7201a8\"],[0.3333333333333333,\"#9c179e\"],[0.4444444444444444,\"#bd3786\"],[0.5555555555555556,\"#d8576b\"],[0.6666666666666666,\"#ed7953\"],[0.7777777777777778,\"#fb9f3a\"],[0.8888888888888888,\"#fdca26\"],[1.0,\"#f0f921\"]],\"type\":\"histogram2d\"}],\"histogram\":[{\"marker\":{\"pattern\":{\"fillmode\":\"overlay\",\"size\":10,\"solidity\":0.2}},\"type\":\"histogram\"}],\"mesh3d\":[{\"colorbar\":{\"outlinewidth\":0,\"ticks\":\"\"},\"type\":\"mesh3d\"}],\"parcoords\":[{\"line\":{\"colorbar\":{\"outlinewidth\":0,\"ticks\":\"\"}},\"type\":\"parcoords\"}],\"pie\":[{\"automargin\":true,\"type\":\"pie\"}],\"scatter3d\":[{\"line\":{\"colorbar\":{\"outlinewidth\":0,\"ticks\":\"\"}},\"marker\":{\"colorbar\":{\"outlinewidth\":0,\"ticks\":\"\"}},\"type\":\"scatter3d\"}],\"scattercarpet\":[{\"marker\":{\"colorbar\":{\"outlinewidth\":0,\"ticks\":\"\"}},\"type\":\"scattercarpet\"}],\"scattergeo\":[{\"marker\":{\"colorbar\":{\"outlinewidth\":0,\"ticks\":\"\"}},\"type\":\"scattergeo\"}],\"scattergl\":[{\"marker\":{\"line\":{\"color\":\"#283442\"}},\"type\":\"scattergl\"}],\"scattermapbox\":[{\"marker\":{\"colorbar\":{\"outlinewidth\":0,\"ticks\":\"\"}},\"type\":\"scattermapbox\"}],\"scatterpolargl\":[{\"marker\":{\"colorbar\":{\"outlinewidth\":0,\"ticks\":\"\"}},\"type\":\"scatterpolargl\"}],\"scatterpolar\":[{\"marker\":{\"colorbar\":{\"outlinewidth\":0,\"ticks\":\"\"}},\"type\":\"scatterpolar\"}],\"scatter\":[{\"marker\":{\"line\":{\"color\":\"#283442\"}},\"type\":\"scatter\"}],\"scatterternary\":[{\"marker\":{\"colorbar\":{\"outlinewidth\":0,\"ticks\":\"\"}},\"type\":\"scatterternary\"}],\"surface\":[{\"colorbar\":{\"outlinewidth\":0,\"ticks\":\"\"},\"colorscale\":[[0.0,\"#0d0887\"],[0.1111111111111111,\"#46039f\"],[0.2222222222222222,\"#7201a8\"],[0.3333333333333333,\"#9c179e\"],[0.4444444444444444,\"#bd3786\"],[0.5555555555555556,\"#d8576b\"],[0.6666666666666666,\"#ed7953\"],[0.7777777777777778,\"#fb9f3a\"],[0.8888888888888888,\"#fdca26\"],[1.0,\"#f0f921\"]],\"type\":\"surface\"}],\"table\":[{\"cells\":{\"fill\":{\"color\":\"#506784\"},\"line\":{\"color\":\"rgb(17,17,17)\"}},\"header\":{\"fill\":{\"color\":\"#2a3f5f\"},\"line\":{\"color\":\"rgb(17,17,17)\"}},\"type\":\"table\"}]},\"layout\":{\"annotationdefaults\":{\"arrowcolor\":\"#f2f5fa\",\"arrowhead\":0,\"arrowwidth\":1},\"autotypenumbers\":\"strict\",\"coloraxis\":{\"colorbar\":{\"outlinewidth\":0,\"ticks\":\"\"}},\"colorscale\":{\"diverging\":[[0,\"#8e0152\"],[0.1,\"#c51b7d\"],[0.2,\"#de77ae\"],[0.3,\"#f1b6da\"],[0.4,\"#fde0ef\"],[0.5,\"#f7f7f7\"],[0.6,\"#e6f5d0\"],[0.7,\"#b8e186\"],[0.8,\"#7fbc41\"],[0.9,\"#4d9221\"],[1,\"#276419\"]],\"sequential\":[[0.0,\"#0d0887\"],[0.1111111111111111,\"#46039f\"],[0.2222222222222222,\"#7201a8\"],[0.3333333333333333,\"#9c179e\"],[0.4444444444444444,\"#bd3786\"],[0.5555555555555556,\"#d8576b\"],[0.6666666666666666,\"#ed7953\"],[0.7777777777777778,\"#fb9f3a\"],[0.8888888888888888,\"#fdca26\"],[1.0,\"#f0f921\"]],\"sequentialminus\":[[0.0,\"#0d0887\"],[0.1111111111111111,\"#46039f\"],[0.2222222222222222,\"#7201a8\"],[0.3333333333333333,\"#9c179e\"],[0.4444444444444444,\"#bd3786\"],[0.5555555555555556,\"#d8576b\"],[0.6666666666666666,\"#ed7953\"],[0.7777777777777778,\"#fb9f3a\"],[0.8888888888888888,\"#fdca26\"],[1.0,\"#f0f921\"]]},\"colorway\":[\"#636efa\",\"#EF553B\",\"#00cc96\",\"#ab63fa\",\"#FFA15A\",\"#19d3f3\",\"#FF6692\",\"#B6E880\",\"#FF97FF\",\"#FECB52\"],\"font\":{\"color\":\"#f2f5fa\"},\"geo\":{\"bgcolor\":\"rgb(17,17,17)\",\"lakecolor\":\"rgb(17,17,17)\",\"landcolor\":\"rgb(17,17,17)\",\"showlakes\":true,\"showland\":true,\"subunitcolor\":\"#506784\"},\"hoverlabel\":{\"align\":\"left\"},\"hovermode\":\"closest\",\"mapbox\":{\"style\":\"dark\"},\"paper_bgcolor\":\"rgb(17,17,17)\",\"plot_bgcolor\":\"rgb(17,17,17)\",\"polar\":{\"angularaxis\":{\"gridcolor\":\"#506784\",\"linecolor\":\"#506784\",\"ticks\":\"\"},\"bgcolor\":\"rgb(17,17,17)\",\"radialaxis\":{\"gridcolor\":\"#506784\",\"linecolor\":\"#506784\",\"ticks\":\"\"}},\"scene\":{\"xaxis\":{\"backgroundcolor\":\"rgb(17,17,17)\",\"gridcolor\":\"#506784\",\"gridwidth\":2,\"linecolor\":\"#506784\",\"showbackground\":true,\"ticks\":\"\",\"zerolinecolor\":\"#C8D4E3\"},\"yaxis\":{\"backgroundcolor\":\"rgb(17,17,17)\",\"gridcolor\":\"#506784\",\"gridwidth\":2,\"linecolor\":\"#506784\",\"showbackground\":true,\"ticks\":\"\",\"zerolinecolor\":\"#C8D4E3\"},\"zaxis\":{\"backgroundcolor\":\"rgb(17,17,17)\",\"gridcolor\":\"#506784\",\"gridwidth\":2,\"linecolor\":\"#506784\",\"showbackground\":true,\"ticks\":\"\",\"zerolinecolor\":\"#C8D4E3\"}},\"shapedefaults\":{\"line\":{\"color\":\"#f2f5fa\"}},\"sliderdefaults\":{\"bgcolor\":\"#C8D4E3\",\"bordercolor\":\"rgb(17,17,17)\",\"borderwidth\":1,\"tickwidth\":0},\"ternary\":{\"aaxis\":{\"gridcolor\":\"#506784\",\"linecolor\":\"#506784\",\"ticks\":\"\"},\"baxis\":{\"gridcolor\":\"#506784\",\"linecolor\":\"#506784\",\"ticks\":\"\"},\"bgcolor\":\"rgb(17,17,17)\",\"caxis\":{\"gridcolor\":\"#506784\",\"linecolor\":\"#506784\",\"ticks\":\"\"}},\"title\":{\"x\":0.05},\"updatemenudefaults\":{\"bgcolor\":\"#506784\",\"borderwidth\":0},\"xaxis\":{\"automargin\":true,\"gridcolor\":\"#283442\",\"linecolor\":\"#506784\",\"ticks\":\"\",\"title\":{\"standoff\":15},\"zerolinecolor\":\"#283442\",\"zerolinewidth\":2},\"yaxis\":{\"automargin\":true,\"gridcolor\":\"#283442\",\"linecolor\":\"#506784\",\"ticks\":\"\",\"title\":{\"standoff\":15},\"zerolinecolor\":\"#283442\",\"zerolinewidth\":2}}},\"title\":{\"text\":\"A Stock Price Prediction\"},\"xaxis\":{\"title\":{\"text\":\"Time Steps\"}},\"yaxis\":{\"title\":{\"text\":\"Stock Price\"}},\"legend\":{\"title\":{\"text\":\"Legend\"}}},                        {\"responsive\": true}                    ).then(function(){\n",
       "                            \n",
       "var gd = document.getElementById('3cac8c0b-bafe-4715-96f2-6a48d6f7797d');\n",
       "var x = new MutationObserver(function (mutations, observer) {{\n",
       "        var display = window.getComputedStyle(gd).display;\n",
       "        if (!display || display === 'none') {{\n",
       "            console.log([gd, 'removed!']);\n",
       "            Plotly.purge(gd);\n",
       "            observer.disconnect();\n",
       "        }}\n",
       "}});\n",
       "\n",
       "// Listen for the removal of the full notebook cells\n",
       "var notebookContainer = gd.closest('#notebook-container');\n",
       "if (notebookContainer) {{\n",
       "    x.observe(notebookContainer, {childList: true});\n",
       "}}\n",
       "\n",
       "// Listen for the clearing of the current output cell\n",
       "var outputEl = gd.closest('.output');\n",
       "if (outputEl) {{\n",
       "    x.observe(outputEl, {childList: true});\n",
       "}}\n",
       "\n",
       "                        })                };                });            </script>        </div>"
      ]
     },
     "metadata": {},
     "output_type": "display_data"
    }
   ],
   "source": [
    "import yfinance as yf\n",
    "import numpy as np\n",
    "import pandas as pd\n",
    "from sklearn.preprocessing import MinMaxScaler\n",
    "import tensorflow as tf\n",
    "from tensorflow.keras.models import Sequential\n",
    "from tensorflow.keras.layers import Dense, LSTM\n",
    "import plotly.graph_objects as go\n",
    "\n",
    "# Function to get the most recent stock price using yfinance\n",
    "def get_real_time_stock_data(symbol):\n",
    "    stock = yf.Ticker(symbol)\n",
    "    data = stock.history(period=\"1d\", interval=\"1m\")  # Get intraday data (1-minute interval)\n",
    "    if data.empty:\n",
    "        raise ValueError(\"No real-time data available. Please check the symbol.\")\n",
    "    close_price = data['Close'].iloc[-1]\n",
    "    return close_price\n",
    "\n",
    "# Function to load historical stock data for training the model\n",
    "def load_historical_data(symbol, data_points=500):\n",
    "    stock = yf.Ticker(symbol)\n",
    "    data = stock.history(period=\"max\")  # Get maximum available historical data\n",
    "    if data.empty:\n",
    "        raise ValueError(\"No historical data available. Please check the symbol.\")\n",
    "    \n",
    "    # Extract 'Close' prices for the last 'data_points' entries\n",
    "    historical_data = data['Close'].values[-data_points:]\n",
    "    \n",
    "    return historical_data\n",
    "\n",
    "# Preprocessing data for LSTM model (this part is unchanged)\n",
    "def preprocess_data(data, scaler):\n",
    "    data_scaled = scaler.fit_transform(data.reshape(-1, 1))\n",
    "    X, y = [], []\n",
    "    for i in range(60, len(data_scaled)):\n",
    "        X.append(data_scaled[i-60:i, 0])\n",
    "        y.append(data_scaled[i, 0])\n",
    "    X, y = np.array(X), np.array(y)\n",
    "    X = X.reshape((X.shape[0], X.shape[1], 1))  # Reshape for LSTM input\n",
    "    return X, y\n",
    "\n",
    "# Building and training the LSTM model (this part is unchanged)\n",
    "def build_and_train_model(X_train, y_train):\n",
    "    model = Sequential()\n",
    "    model.add(LSTM(units=50, return_sequences=True, input_shape=(X_train.shape[1], 1)))\n",
    "    model.add(LSTM(units=50))\n",
    "    model.add(Dense(1))  # Output layer for price prediction\n",
    "    model.compile(optimizer='adam', loss='mean_squared_error')\n",
    "    \n",
    "    model.fit(X_train, y_train, epochs=5, batch_size=32)\n",
    "    \n",
    "    return model\n",
    "\n",
    "# Function to predict next N stock prices using LSTM model\n",
    "def predict_next_n_prices(symbol, model, scaler, last_59_prices, n=10):\n",
    "    predictions = []\n",
    "    \n",
    "    for _ in range(n):\n",
    "        new_price = get_real_time_stock_data(symbol)  # Get real-time price from yfinance\n",
    "        scaled_price = scaler.transform([[new_price]])[0, 0]\n",
    "        last_59_prices = np.append(last_59_prices, scaled_price)[-60:]  # Keep last 60 points\n",
    "        last_60_prices = last_59_prices.reshape(1, 60, 1)\n",
    "        predicted_price_scaled = model.predict(last_60_prices)\n",
    "        predicted_price = scaler.inverse_transform(predicted_price_scaled)\n",
    "        predictions.append(predicted_price[0][0])\n",
    "        \n",
    "        # Update last_59_prices for the next prediction\n",
    "        last_59_prices = np.append(last_59_prices, scaled_price)[-59:]\n",
    "    \n",
    "    return predictions\n",
    "\n",
    "# Function to plot historical and predicted data using Plotly\n",
    "def plot_predictions(historical_data, predicted_data, symbol):\n",
    "    fig = go.Figure()\n",
    "    \n",
    "    # Plot historical data\n",
    "    fig.add_trace(go.Scatter(\n",
    "        x=np.arange(len(historical_data)),\n",
    "        y=historical_data,\n",
    "        mode='lines',\n",
    "        name='Historical Prices'\n",
    "    ))\n",
    "    \n",
    "    # Plot predicted data\n",
    "    fig.add_trace(go.Scatter(\n",
    "        x=np.arange(len(historical_data), len(historical_data) + len(predicted_data)),\n",
    "        y=predicted_data,\n",
    "        mode='lines',\n",
    "        name='Predicted Prices',\n",
    "        line=dict(color='orange', dash='dot')\n",
    "    ))\n",
    "    \n",
    "    fig.update_layout(\n",
    "        title=f'{symbol} Stock Price Prediction',\n",
    "        xaxis_title='Time Steps',\n",
    "        yaxis_title='Stock Price',\n",
    "        legend_title='Legend',\n",
    "        template='plotly_dark'\n",
    "    )\n",
    "    \n",
    "    fig.show()\n",
    "\n",
    "# Example usage\n",
    "if __name__ == '__main__':\n",
    "    symbol = 'A'  # Example stock symbol\n",
    "    \n",
    "    # Step 1: Load historical stock prices\n",
    "    historical_data = load_historical_data(symbol, data_points=500)  # Get 500 historical data points\n",
    "    \n",
    "    # Step 2: Preprocess data\n",
    "    scaler = MinMaxScaler(feature_range=(0, 1))\n",
    "    X_train, y_train = preprocess_data(historical_data, scaler)\n",
    "    \n",
    "    # Step 3: Build and train the LSTM model\n",
    "    model = build_and_train_model(X_train, y_train)\n",
    "    \n",
    "    # Step 4: Predict the next 10 stock prices using real-time data\n",
    "    last_59_prices = historical_data[-59:]  # Last 59 prices from historical data\n",
    "    predicted_prices = predict_next_n_prices(symbol, model, scaler, last_59_prices, n=10)\n",
    "    \n",
    "    # Step 5: Plot the results using Plotly\n",
    "    plot_predictions(historical_data[-100:], predicted_prices, symbol)  # Plot the last 100 historical points + predictions\n"
   ]
  },
  {
   "cell_type": "code",
   "execution_count": null,
   "id": "43d1b92e-554c-476d-8ff7-afa0d4fd8721",
   "metadata": {},
   "outputs": [],
   "source": [
    "import yfinance as yf\n",
    "import numpy as np\n",
    "import pandas as pd\n",
    "from sklearn.preprocessing import MinMaxScaler\n",
    "import tensorflow as tf\n",
    "from tensorflow.keras.models import Sequential\n",
    "from tensorflow.keras.layers import Dense, LSTM\n",
    "import plotly.graph_objects as go\n",
    "from flask import Flask, jsonify, render_template, request\n",
    "\n",
    "\n",
    "# Function to get the most recent stock price using yfinance\n",
    "def get_real_time_stock_data(symbol):\n",
    "    stock = yf.Ticker(symbol)\n",
    "    data = stock.history(period=\"1d\", interval=\"1m\")  # Get intraday data (1-minute interval)\n",
    "    if data.empty:\n",
    "        raise ValueError(\"No real-time data available. Please check the symbol.\")\n",
    "    close_price = data['Close'].iloc[-1]\n",
    "    return close_price\n",
    "\n",
    "# Function to load historical stock data for training the model\n",
    "def load_historical_data(symbol, data_points=500):\n",
    "    stock = yf.Ticker(symbol)\n",
    "    data = stock.history(period=\"max\")  # Get maximum available historical data\n",
    "    if data.empty:\n",
    "        raise ValueError(\"No historical data available. Please check the symbol.\")\n",
    "    \n",
    "    # Extract 'Close' prices for the last 'data_points' entries\n",
    "    historical_data = data['Close'].values[-data_points:]\n",
    "    \n",
    "    return historical_data\n",
    "\n",
    "# Preprocessing data for LSTM model (this part is unchanged)\n",
    "def preprocess_data(data, scaler):\n",
    "    data_scaled = scaler.fit_transform(data.reshape(-1, 1))\n",
    "    X, y = [], []\n",
    "    for i in range(60, len(data_scaled)):\n",
    "        X.append(data_scaled[i-60:i, 0])\n",
    "        y.append(data_scaled[i, 0])\n",
    "    X, y = np.array(X), np.array(y)\n",
    "    X = X.reshape((X.shape[0], X.shape[1], 1))  # Reshape for LSTM input\n",
    "    return X, y\n",
    "\n",
    "# Building and training the LSTM model (this part is unchanged)\n",
    "def build_and_train_model(X_train, y_train):\n",
    "    model = Sequential()\n",
    "    model.add(LSTM(units=50, return_sequences=True, input_shape=(X_train.shape[1], 1)))\n",
    "    model.add(LSTM(units=50))\n",
    "    model.add(Dense(1))  # Output layer for price prediction\n",
    "    model.compile(optimizer='adam', loss='mean_squared_error')\n",
    "    \n",
    "    model.fit(X_train, y_train, epochs=5, batch_size=32)\n",
    "    \n",
    "    return model\n",
    "\n",
    "# Function to predict next N stock prices using LSTM model\n",
    "def predict_next_n_prices(symbol, model, scaler, last_59_prices, n=10):\n",
    "    predictions = []\n",
    "    \n",
    "    for _ in range(n):\n",
    "        new_price = get_real_time_stock_data(symbol)  # Get real-time price from yfinance\n",
    "        scaled_price = scaler.transform([[new_price]])[0, 0]\n",
    "        last_59_prices = np.append(last_59_prices, scaled_price)[-60:]  # Keep last 60 points\n",
    "        last_60_prices = last_59_prices.reshape(1, 60, 1)\n",
    "        predicted_price_scaled = model.predict(last_60_prices)\n",
    "        predicted_price = scaler.inverse_transform(predicted_price_scaled)\n",
    "        predictions.append(predicted_price[0][0])\n",
    "        \n",
    "        # Update last_59_prices for the next prediction\n",
    "        last_59_prices = np.append(last_59_prices, scaled_price)[-59:]\n",
    "    \n",
    "    return predictions\n",
    "\n",
    "# Function to plot historical and predicted data using Plotly\n",
    "def plot_predictions(historical_data, predicted_data, symbol):\n",
    "    # Create a Plotly figure\n",
    "    fig = go.Figure()\n",
    "    # Plot historical data\n",
    "    fig.add_trace(go.Scatter(\n",
    "        x=np.arange(len(historical_data)),\n",
    "        y=historical_data,\n",
    "        mode='lines',\n",
    "        name='Historical Prices'\n",
    "    ))\n",
    "    # Plot predicted data\n",
    "    fig.add_trace(go.Scatter(\n",
    "        x=np.arange(len(historical_data), len(historical_data) + len(predicted_data)),\n",
    "        y=predicted_data,\n",
    "        mode='lines',\n",
    "        name='Predicted Prices',\n",
    "        line=dict(color='orange', dash='dot')\n",
    "    ))\n",
    "    fig.update_layout(\n",
    "        title=f'{symbol} Stock Price Prediction',\n",
    "        xaxis_title='Time Steps',\n",
    "        yaxis_title='Stock Price',\n",
    "        legend_title='Legend',\n",
    "        template='plotly_dark'\n",
    "    )\n",
    "    return fig\n",
    "\n",
    "@app.route('/')\n",
    "def index():\n",
    "    return render_template('index.html')  # Create an index.html file for your frontend\n",
    "\n",
    "@app.route('/predict', methods=['POST'])\n",
    "def predict():\n",
    "    symbol = request.form.get('symbol')  # Get the stock symbol from the form\n",
    "    historical_data = load_historical_data(symbol, data_points=500)  # Load historical data\n",
    "    scaler = MinMaxScaler(feature_range=(0, 1))\n",
    "    X_train, y_train = preprocess_data(historical_data, scaler)\n",
    "    model = build_and_train_model(X_train, y_train)\n",
    "    last_59_prices = historical_data[-59:]  # Last 59 prices\n",
    "    predicted_prices = predict_next_n_prices(symbol, model, scaler, last_59_prices, n=10)\n",
    "    fig = plot_predictions(historical_data[-100:], predicted_prices, symbol)\n",
    "    # Return the Plotly chart as JSON\n",
    "    graph_json = fig.to_json()\n",
    "    return jsonify(graph_json)\n",
    "\n",
    "if __name__ == '__main__':\n",
    "    app.run(debug=True)\n",
    "    \n",
    "# Example usage\n",
    "if __name__ == '__main__':\n",
    "    symbol = 'A'  # Example stock symbol\n",
    "    \n",
    "    # Step 1: Load historical stock prices\n",
    "    historical_data = load_historical_data(symbol, data_points=500)  # Get 500 historical data points\n",
    "    \n",
    "    # Step 2: Preprocess data\n",
    "    scaler = MinMaxScaler(feature_range=(0, 1))\n",
    "    X_train, y_train = preprocess_data(historical_data, scaler)\n",
    "    \n",
    "    # Step 3: Build and train the LSTM model\n",
    "    model = build_and_train_model(X_train, y_train)\n",
    "    \n",
    "    # Step 4: Predict the next 10 stock prices using real-time data\n",
    "    last_59_prices = historical_data[-59:]  # Last 59 prices from historical data\n",
    "    predicted_prices = predict_next_n_prices(symbol, model, scaler, last_59_prices, n=10)\n",
    "    \n",
    "    # Step 5: Plot the results using Plotly\n",
    "    plot_predictions(historical_data[-100:], predicted_prices, symbol)  # Plot the last 100 historical points + predictions\n"
   ]
  },
  {
   "cell_type": "code",
   "execution_count": null,
   "id": "fabe1ce8-5b03-4d48-a7b7-54b89f868ffb",
   "metadata": {},
   "outputs": [],
   "source": []
  }
 ],
 "metadata": {
  "kernelspec": {
   "display_name": "Python 3 (ipykernel)",
   "language": "python",
   "name": "python3"
  },
  "language_info": {
   "codemirror_mode": {
    "name": "ipython",
    "version": 3
   },
   "file_extension": ".py",
   "mimetype": "text/x-python",
   "name": "python",
   "nbconvert_exporter": "python",
   "pygments_lexer": "ipython3",
   "version": "3.12.3"
  }
 },
 "nbformat": 4,
 "nbformat_minor": 5
}
